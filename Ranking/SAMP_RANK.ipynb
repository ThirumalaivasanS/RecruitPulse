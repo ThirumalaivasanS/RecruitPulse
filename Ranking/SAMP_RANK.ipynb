{
  "nbformat": 4,
  "nbformat_minor": 0,
  "metadata": {
    "colab": {
      "provenance": [],
      "gpuType": "T4"
    },
    "kernelspec": {
      "name": "python3",
      "display_name": "Python 3"
    },
    "language_info": {
      "name": "python"
    },
    "accelerator": "GPU"
  },
  "cells": [
    {
      "cell_type": "code",
      "source": [
        "!pip install docx2txt"
      ],
      "metadata": {
        "id": "NjKj1lyWIAz-"
      },
      "execution_count": null,
      "outputs": []
    },
    {
      "cell_type": "code",
      "source": [
        "!pip install sentence_transformers"
      ],
      "metadata": {
        "id": "h3otdWe8IAuO"
      },
      "execution_count": null,
      "outputs": []
    },
    {
      "cell_type": "code",
      "source": [
        "!pip install docx"
      ],
      "metadata": {
        "id": "jdrN3xKQL8Jc"
      },
      "execution_count": null,
      "outputs": []
    },
    {
      "cell_type": "code",
      "source": [
        "!pip install PyPDF2"
      ],
      "metadata": {
        "id": "0BbBzU8pMIsu"
      },
      "execution_count": null,
      "outputs": []
    },
    {
      "cell_type": "code",
      "source": [
        "!pip install docx2txt\n"
      ],
      "metadata": {
        "id": "LnqBvMnsNWrb"
      },
      "execution_count": null,
      "outputs": []
    },
    {
      "cell_type": "code",
      "source": [
        "#NECESSARY MODULE\n",
        "import os\n",
        "import pandas as pd\n",
        "from sentence_transformers import SentenceTransformer, util\n",
        "from PyPDF2 import PdfReader\n",
        "import docx2txt\n",
        "\n",
        "#READING PDF\n",
        "def extract_text_from_document(file_path):\n",
        "    text = \"\"\n",
        "    if file_path.endswith('.pdf'):\n",
        "        try:\n",
        "            with open(file_path, 'rb') as file:\n",
        "                reader = PdfReader(file)\n",
        "                for page in reader.pages:\n",
        "                    text += page.extract_text()\n",
        "        except Exception as e:\n",
        "            print(f\"Error reading PDF file: {e}\")\n",
        "    elif file_path.endswith('.docx'):\n",
        "        try:\n",
        "            text = docx2txt.process(file_path)\n",
        "        except Exception as e:\n",
        "            print(f\"Error reading DOCX file: {e}\")\n",
        "    else:\n",
        "        print(\"Unsupported file format\")\n",
        "    return text\n",
        "\n",
        "#RANK\n",
        "def rank_resumes_sentence_transformers(resume_directory, job_description_path, model_name):\n",
        "    job_description_text = extract_text_from_document(job_description_path)\n",
        "    resume_files = [file for file in os.listdir(resume_directory)]\n",
        "\n",
        "    model = SentenceTransformer(model_name)\n",
        "    job_description_embedding = model.encode(job_description_text, convert_to_tensor=True)\n",
        "\n",
        "    scores = []\n",
        "    for file in resume_files:\n",
        "        text = extract_text_from_document(os.path.join(resume_directory, file))\n",
        "        text_embedding = model.encode(text, convert_to_tensor=True)\n",
        "\n",
        "\n",
        "        similarity = float(util.pytorch_cos_sim(job_description_embedding, text_embedding)[0][0])\n",
        "\n",
        "        scores.append(similarity)\n",
        "\n",
        "    resume_data = pd.DataFrame({\n",
        "        'Resume': resume_files,\n",
        "        'Similarity_Score': scores\n",
        "    })\n",
        "    ranked_resumes = resume_data.sort_values(by='Similarity_Score', ascending=False)\n",
        "    return ranked_resumes\n",
        "\n",
        "#MODEL & FILE PATH\n",
        "resume_directory = \"/content/drive/MyDrive/PythonRes\"\n",
        "job_description_path = \"/content/drive/MyDrive/RANKING/JOB_DES.pdf\"\n",
        "model_name = 'sentence-transformers/msmarco-MiniLM-L-12-v3'\n",
        "\n",
        "ranked_resumes_sentence_transformers = rank_resumes_sentence_transformers(resume_directory, job_description_path, model_name)\n",
        "\n",
        "\n",
        "ranked_resumes_sentence_transformers.to_csv(\"/content/drive/MyDrive/RANKING/ranked_resumes_sentence_transformers.csv\", index=False)\n",
        "\n",
        "print(\"Ranked Resumes by Similarity (Sentence Transformers):\")\n",
        "print(ranked_resumes_sentence_transformers[['Resume', 'Similarity_Score']])\n",
        "\n"
      ],
      "metadata": {
        "colab": {
          "base_uri": "https://localhost:8080/"
        },
        "id": "C56jUHISKYvD",
        "outputId": "294db35d-54c8-4900-da6d-dadfb443b968"
      },
      "execution_count": 42,
      "outputs": [
        {
          "output_type": "stream",
          "name": "stdout",
          "text": [
            "Ranked Resumes by Similarity (Sentence Transformers):\n",
            "                           Resume  Similarity_Score\n",
            "3  Python Developer_resume_1.docx          0.813476\n",
            "1  Python Developer_resume_3.docx          0.653458\n",
            "0  Python Developer_resume_0.docx          0.633810\n",
            "5  Python Developer_resume_7.docx          0.627064\n",
            "6  Python Developer_resume_5.docx          0.528187\n",
            "4  Python Developer_resume_2.docx          0.510891\n",
            "2  Python Developer_resume_4.docx          0.434695\n",
            "8  Python Developer_resume_8.docx          0.417042\n",
            "7  Python Developer_resume_6.docx          0.340740\n"
          ]
        }
      ]
    },
    {
      "cell_type": "code",
      "source": [],
      "metadata": {
        "id": "henhaLULP73j"
      },
      "execution_count": 8,
      "outputs": []
    }
  ]
}